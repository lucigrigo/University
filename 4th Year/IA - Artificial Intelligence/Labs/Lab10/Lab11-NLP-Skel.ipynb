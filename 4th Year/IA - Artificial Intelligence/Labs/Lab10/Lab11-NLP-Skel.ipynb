{
 "cells": [
  {
   "cell_type": "markdown",
   "metadata": {},
   "source": [
    "# Prelucrarea Limbajului Natural: Analiza Sentimentelor\n",
    " - Tudor Berariu\n",
    " - Andrei Olaru\n",
    "\n",
    "Scopul acestui laborator îl reprezintă rezolvarea unei probleme ce implică analiza unor documente în limbaj natural și învățarea unui algoritm simplu de clasificare: **Naive Bayes**.\n",
    "\n",
    "## Analiza Sentimentelor\n",
    "\n",
    "O serie de probleme de inteligență artificială presupun asocierea unei clase unui document în limbaj natural. Exemple de astfel de probleme sunt: **clasificarea** email-urilor în *spam* sau *ham* sau a recenziilor unor filme în *pozitive* sau *negative*. În laboratorul de astăzi vom aborda problema din urmă.\n",
    "\n",
    "Folosind setul de date de aici: http://www.cs.cornell.edu/people/pabo/movie-review-data/ (2000 de recenzii de film), vom construi un model care să discrimineze între recenziile pozitive și recenziile negative."
   ]
  },
  {
   "cell_type": "markdown",
   "metadata": {},
   "source": [
    "## Algoritmul Naive Bayes\n",
    "\n",
    "### Clasificare\n",
    "\n",
    "Având un set de date $\\langle \\mathbf{X}, \\mathbf{T} \\rangle$ compus din $N$ exemple $\\mathbf{x}^{(i)}$, $1 \\le i \\le N$, descrise prin $k$ atribute $(x^{(i)}_1, x^{(i)}_2, \\ldots, x^{(i)}_k)$ și etichetate cu o clasă $t^{(i)} \\in \\mathcal{C}$, se cere construirea unui clasificator care să eticheteze exemple noi.\n",
    "\n",
    "### Naive Bayes\n",
    "\n",
    "**Naive Bayes** reprezintă o *metodă statistică inductivă* de clasificare, bazată pe Teorema lui Bayes pentru exprimarea relației dintre probabilitatea *a priori* și probabilitatea *posterioară* ale unei ipoteze.\n",
    "\n",
    "$$P(c \\vert \\mathbf{x}) = \\frac{P(\\mathbf{x} \\vert c) \\cdot P(c)}{P(\\mathbf{x})}$$\n",
    "\n",
    " - $P(c)$ reprezintă probabilitatea *a priori* a clasei $c$\n",
    " - $P(c \\vert \\mathbf{x})$ reprezintă probabilitatea *a posteriori* (după observarea lui $\\mathbf{x}$)\n",
    " - $P(\\mathbf{x} \\vert c)$ reprezitnă probabilitatea ca $\\mathbf{x}$ să aparțină clasei $c$ (*verosimilitatea*)\n",
    " \n",
    "Un clasificator **Naive Bayes** funcționează pe principiul verosimilității maxime (eng. *maximum likelihood*), deci alege clasa $c$ pentru care probabilitatea $P(c \\vert x)$ este maximă:\n",
    "\n",
    "$$c_{MAP} = \\underset{c \\in \\mathcal{C}}{\\arg\\max} P(c \\vert \\mathbf{x}) = \\underset{c \\in \\mathcal{C}}{\\arg\\max} \\frac{P(\\mathbf{x} \\vert c) \\cdot P(c)}{P(x)} = \\underset{c \\in \\mathcal{C}}{\\arg\\max} P(\\mathbf{x} \\vert c) \\cdot P(c)$$\n",
    "\n",
    "Cum fiecare exemplu $\\mathbf{x}$ este descris prin $K$ atribute:\n",
    "\n",
    "$$c_{MAP} = \\underset{c \\in \\mathcal{C}}{\\arg\\max} P(x_1, x_2, \\ldots x_K \\vert c) \\cdot P(c)$$\n",
    "\n",
    "Algoritmul **Naive Bayes** face o presupunere simplificatoare, și anume, că atributele unui exemplu sunt *condițional independente* odată ce clasa este cunoscută:\n",
    "\n",
    "$$P(\\mathbf{x} \\vert c) = \\displaystyle\\prod_i P(x_i \\vert c)$$\n",
    "\n",
    "Astfel clasa pe care o prezice un clasificator **Naive Bayes** este:\n",
    "\n",
    "$$c_{NB} = \\underset{c \\in \\mathcal{C}}{\\arg\\max} P(c) \\cdot \\displaystyle \\prod_{i}^{K} P(x_i \\vert c)$$\n",
    "\n"
   ]
  },
  {
   "cell_type": "markdown",
   "metadata": {},
   "source": [
    "## Clasificarea documentelor\n",
    "\n",
    "Pentru clasificare documentele vor fi reprezentate prin vectori binari de lungimea vocabularului (eng. *bag of words*). Practic fiecare document va avea 1 pe pozițiile corspunzătoare cuvintelor pe care le conține și 0 pe toate celelalte poziții. Dimensiunea unui exemplu $\\mathbf{x}$ este, deci, numărul de cuvinte diferite din setul de date.\n",
    "\n",
    "### Estimarea parametrilor modelului Naive Bayes\n",
    "\n",
    "Probabilitatea _a priori_ pentru o clasă $c \\in \\mathcal{C}$:\n",
    "\n",
    "$$P(c) = \\frac{\\#\\text{ docs in class }c}{\\#\\text{ total docs}}$$\n",
    "\n",
    "$P(x_i \\vert c)$ va reprezenta probabilitatea de a apărea cuvântul $x_i$ într-un document din clasa $c$ și o vom estima cu raportul dintre numărul de apariții ale cuvântului $x_i$ în documentele din clasa $c$ și numărul total de cuvinte ale acelor documente:\n",
    "\n",
    "$$P(x_i \\vert c) = \\frac{\\#\\text{ aparitii ale lui } x_i \\text{ in documente din clasa } c}{\\#\\text{ numar total de cuvinte in documentele din clasa } c}$$\n",
    "\n",
    "Deoarece este posibil ca un cuvant _rar_ ce apare într-un exemplu de test să nu se găsească deloc într-una din clase, se poate întâmpla ca un astfel de _accident_ să anuleze complet o probabilitate. Dacă un singur factor al unui produs este zero, atunci produsul devine zero. De aceea vom folosi netezire Laplace (eng. _Laplace smoothing_):\n",
    "\n",
    "$$P(x_i \\vert c) = \\frac{\\#\\text{ aparitii ale lui } x_i \\text{ in documente din clasa } c + \\alpha}{\\#\\text{ numar total de cuvinte in documentele din clasa } c + \\vert Voc \\vert \\cdot \\alpha}$$"
   ]
  },
  {
   "cell_type": "markdown",
   "metadata": {},
   "source": [
    "## Setul de date\n",
    "\n",
    " 1. Descărcați setul de date **polarity dataset v2.0** de aici http://www.cs.cornell.edu/people/pabo/movie-review-data/\n",
    " 2. Dezarhivați fișierul **review_polarity.tar.gz** și rearhivați directorul review_polarity ca zip.\n",
    " 3. Plasați / încărcați **review_polarity.zip** în directorul de lucru."
   ]
  },
  {
   "cell_type": "code",
   "execution_count": 1,
   "metadata": {},
   "outputs": [
    {
     "name": "stdout",
     "output_type": "stream",
     "text": [
      "Recenzii pozitive: 1000; Recenzii negative: 1000\n"
     ]
    }
   ],
   "source": [
    "import zipfile\n",
    "\n",
    "zipFile = zipfile.ZipFile(\"review_polarity.zip\")\n",
    "\n",
    "pos_files = [f for f in zipFile.namelist() if '/pos/cv' in f]\n",
    "neg_files = [f for f in zipFile.namelist() if '/neg/cv' in f]\n",
    "\n",
    "pos_files.sort()\n",
    "neg_files.sort()\n",
    "\n",
    "print(\"Recenzii pozitive: \" + str(len(pos_files)) + \"; Recenzii negative: \" + str(len(neg_files)))\n",
    "\n",
    "# Raspunsul asteptat: \"Recenzii pozitive: 1000; Recenzii negative: 1000\"\n",
    "assert(len(pos_files) == 1000 and len(neg_files) == 1000)"
   ]
  },
  {
   "cell_type": "markdown",
   "metadata": {},
   "source": [
    "### Setul de antrenare și setul de testare\n",
    "\n",
    "Vom folosi 80% din datele din fiecare clasă pentru antrenare și 20% pentru testare."
   ]
  },
  {
   "cell_type": "code",
   "execution_count": 37,
   "metadata": {},
   "outputs": [],
   "source": [
    "tr_pos_no = int(.8 * len(pos_files))\n",
    "tr_neg_no = int(.8 * len(neg_files))\n",
    "\n",
    "from random import shuffle\n",
    "shuffle(pos_files)\n",
    "shuffle(neg_files)\n",
    "\n",
    "pos_train = pos_files[:tr_pos_no] # Recenzii pozitive pentru antrenare\n",
    "pos_test  = pos_files[tr_pos_no:] # Recenzii pozitive pentru testare\n",
    "neg_train = neg_files[:tr_neg_no] # Recenzii negative pentru antrenare\n",
    "neg_test  = neg_files[tr_neg_no:] # Recenzii negative pentru testare"
   ]
  },
  {
   "cell_type": "markdown",
   "metadata": {},
   "source": [
    "## Construirea vocabularului și calculul parametrilor\n",
    "\n",
    "Funcția `parse_document` primește calea către unul dinte fișierele aflate în arhivă și întoarce cuvintele din acest fișier (exceptând cuvintele cu o singură literă și pe cele din lista `STOP_WORDS`. Implementați funcția `count_words` astfel încât să întoarcă un dicționar cu o intrare pentru fiecare cuvânt care să conțină un tuplu cu două valori: numărul de apariții ale acelui cuvânt în rencezii pozitive și numărul de apariții în recenzii negative. În afara acelui dicționar se vor întoarce și numărul total de cuvinte din recenziile pozitive și numărul total de cuvinte din recenziile negative."
   ]
  },
  {
   "cell_type": "code",
   "execution_count": 38,
   "metadata": {},
   "outputs": [
    {
     "name": "stdout",
     "output_type": "stream",
     "text": [
      "Vocabularul are  45015  cuvinte.\n",
      "534073  cuvinte in recenziile pozitive si  469358  cuvinte in recenziile negative\n",
      "Cuvantul 'beautiful' are  (161, 73)  aparitii.\n",
      "Cuvantul 'awful' are  (18, 82)  aparitii.\n"
     ]
    }
   ],
   "source": [
    "STOP_WORDS = []\n",
    "#STOP_WORDS = [line.strip() for line in open(\"Lab11-stop_words\")]\n",
    "\n",
    "import re\n",
    "\n",
    "def parse_document(path):\n",
    "    for word in re.findall(r\"[-\\w']+\", zipFile.read(path).decode(\"utf-8\")):\n",
    "        if len(word) > 1 and word not in STOP_WORDS:\n",
    "            yield word\n",
    "\n",
    "def count_words():\n",
    "    vocabulary = {}\n",
    "    pos_words_no = 0\n",
    "    neg_words_no = 0\n",
    "    \n",
    "    # ------------------------------------------------------\n",
    "    # <TODO 1> numrati aparitiile in documente pozitive si\n",
    "    # in documente negative ale fiecarui cuvant, precum si numarul total\n",
    "    # de cuvinte din fiecare tip de recenzie\n",
    "    for pos_doc in pos_train:\n",
    "        for word in parse_document(pos_doc):\n",
    "            pos_words_no += 1\n",
    "            if word in vocabulary:\n",
    "                vocabulary[word] = (vocabulary[word][0] + 1, vocabulary[word][1])\n",
    "            else:\n",
    "                vocabulary[word] = (1, 0)\n",
    "    \n",
    "    for neg_doc in neg_train:\n",
    "        for word in parse_document(neg_doc):\n",
    "            neg_words_no += 1\n",
    "            if word in vocabulary:\n",
    "                vocabulary[word] = (vocabulary[word][0], vocabulary[word][1] + 1)\n",
    "            else:\n",
    "                vocabulary[word] = (0, 1)\n",
    "    # ------------------------------------------------------\n",
    "    \n",
    "    return (vocabulary, pos_words_no, neg_words_no)\n",
    "\n",
    "# -- VERIFICARE --\n",
    "training_result_words = count_words()\n",
    "\n",
    "(voc, p_no, n_no) = training_result_words\n",
    "print(\"Vocabularul are \", len(voc), \" cuvinte.\")\n",
    "print(p_no, \" cuvinte in recenziile pozitive si \", n_no, \" cuvinte in recenziile negative\")\n",
    "print(\"Cuvantul 'beautiful' are \", voc.get(\"beautiful\", (0, 0)), \" aparitii.\")\n",
    "print(\"Cuvantul 'awful' are \", voc.get(\"awful\", (0, 0)), \" aparitii.\")\n",
    "\n",
    "# Daca se comentează liniile care reordonează aleator listele cu exemplele pozitive și negative,\n",
    "# rezultatul așteptat este:\n",
    "#\n",
    "# Vocabularul are  44895  cuvinte.\n",
    "# 526267  cuvinte in recenziile pozitive si  469812  cuvinte in recenziile negative\n",
    "# Cuvantul 'beautiful' are  (165, 75)  aparitii.\n",
    "# Cuvantul 'awful' are  (16, 89)  aparitii."
   ]
  },
  {
   "cell_type": "markdown",
   "metadata": {},
   "source": [
    "### Predicția sentimentului unei recenzii noi\n",
    "\n",
    "Implementați funcția `predict` care primește parametrii `params` (vocabularul, numărul total de cuvinte din recenziile pozitive și numărul total de cuvinte din recenziile negative) și `path` (calea către o recenzie din cadrul arhivei) și întoarce clasa mai probabilă și logaritmul acelei probabilități. Al treilea argument (opțional) al funcției `predict` este coeficientul pentru netezire Laplace.\n",
    "\n",
    "Așa cum a fost explicat anterior, clasa pe care o prezice un clasificator **Naive Bayes** este dată de următoarea expresie:\n",
    "\n",
    "$$c_{NB} = \\underset{c \\in \\mathcal{C}}{\\arg\\max} P(c) \\cdot \\displaystyle \\prod_{i}^{K} P(x_i \\vert c)$$\n",
    "\n",
    "Pentru a evita lucrul cu numere foarte mici ce pot rezulta din produsul multor valori subunitare, vom logaritma expresiile date:\n",
    "\n",
    "$$c_{NB} = \\underset{c \\in \\mathcal{C}}{\\arg\\max} \\log(P(c)) + \\displaystyle\\sum_{i}^{K} \\log(P(x_i \\vert c))$$\n",
    "\n",
    "Pentru calculul probabilitatilor, vedeti sectiunea \"Estimarea parametrilor modelului Naive Bayes\", mai sus. În cod, `log_pos` și `log_neg` trebuie însumate cu logaritmul pentru fiecare exemplu -- $ \\log(P(c)) $ este deja adunat.\n"
   ]
  },
  {
   "cell_type": "code",
   "execution_count": 39,
   "metadata": {},
   "outputs": [
    {
     "name": "stdout",
     "output_type": "stream",
     "text": [
      "billed as a \" feminist sex fantasy \" , this spirited , imaginative and thoroughly engaging film by the award-winning canadian director cynthia roberts , is destined for extreme reactions . \n",
      "camille paglia enthusiasts will no doubt champion this heart-felt tale of the title character bubbles galore ( nina hartley ) , a porn-actress-turned-porn-producer who faces an uphill battle in her quest for sexual and economic independence . \n",
      "however , those in the andrea dworkin camp , will no doubt loathe the film's decidedly pro-porn stance . \n",
      "political considerations aside , however , this is a delightful lesbian love story as the film takes us on a whirlwind tour of bubbles' romantic entanglements with a naive and virginal young porn starlet dory drawers ( shauny sexton ) . \n",
      "in the backdrop , however is bubbles' loyal assistant vivian klitorsky ( tracy wright ) who pines longingly for the affections of her bubbly boss . \n",
      "this femme-butch-femme triangle is what provides the film with considerable humanity * and * sensuality . \n",
      "in addition to the romantic aspects of the story , bubbles is being stalked and terrorized by her ex-boyfriend godfrey montana ( daniel macivor ) , a slimy porn mogul who wishes to make her life as miserable as he can possibly make it . \n",
      "when his plans to sabotage her latest film fall through , he snaps and psychotically decides to kill her . \n",
      "these proceedings are presided over by a most heavenly presence . \n",
      "god herself - yes , in the world of this film , god , is most definitely a \" her \" - and a chorus of undulating , scantily-clad angels , have their most watchful and lustful eyes on the events as they unfold , adding a lovely fantasy element to this frothy concoction . \n",
      "this bright , colourful and deliriously sexy film is chock-full of great performances . \n",
      "making her dramatic debut , after appearing in over 300 triple x adult films , porn star nina hartley takes command of her role with considerable assurance and a screen presence which puts many other contemporary 'straight' actresses to shame . \n",
      "hartley has overwhelming star power , and one wonders why other non-triple-x producers haven't used her bountiful talents . \n",
      "it is also interesting to note that hartley appears in the recent release of \" boogie nights \" , a film which takes a far more traditional doom-and-gloom approach to the porn industry . \n",
      "making a cameo appearance in the role of god , former porn actress annie sprinkle , a true artist in her own right - gives the entire film an earthy , sensual glow and certainly solidifies and , by her very appearance , downright justifies the themes of the movie . \n",
      "the other performances are equally solid . \n",
      "daniel macivor appropriately chews up the scenery as the villainous godfrey and tracy wright lends able support with her complex role . \n",
      "shauny sexton , an erotic dancer and pin-up model , makes an impressive screen debut . \n",
      "overall , bubbles galore is a film which wears its politics on its sleeve and very proudly indeed . \n",
      "at one point , the title character declares that \" instead of trying to save women from the sex trade , we should be working to ensure that the sex trade is a safe place for women to work \" . \n",
      "the direction by cynthia roberts is daring and subversive . \n",
      "roberts is not afraid to plunge the otherwise straight-ahead and simple narrative into extended and extremely avant-garde montage sequences . \n",
      "the love scenes between the women are especially beautiful . \n",
      "the musical score by nicholas stirling blends cool jazz and lounge stylings , while the skilful cinematography by harald bachmann terrifically captures a blend of garish 70's porn and psychedelia . \n",
      "amazingly , this film appears to have received a good deal of its funding from a variety of canadian government cultural agencies . \n",
      "this speaks volumes towards the importance of state funding for culture , as one cannot imagine such an entertaining , original and vital film being made in a traditional setting where conformity and formula rule the day . \n",
      "bubbles galore seems to be making the film festival rounds and does not , at present , appear to have any traditional distribution in place , so keep your eye on the alternative film listings for this one . \n",
      "it's funny , sexy and subversive . \n",
      "and it shouldn't be missed . \n",
      "\n"
     ]
    },
    {
     "data": {
      "text/plain": [
       "('pos', -5007.156216304807)"
      ]
     },
     "execution_count": 39,
     "metadata": {},
     "output_type": "execute_result"
    }
   ],
   "source": [
    "from math import log\n",
    "\n",
    "def predict(params, path, alpha = 1):\n",
    "    (vocabulary, pos_words_no, neg_words_no) = params\n",
    "    log_pos = log(0.5)\n",
    "    log_neg = log(0.5)\n",
    "\n",
    "    # ----------------------------------------------------------------------\n",
    "    # <TODO 2> Calculul logaritmilor probabilităților\n",
    "    for w in parse_document(path):\n",
    "        (p, n) = vocabulary.get(w, (0, 0))\n",
    "        log_pos += log((p + alpha) / (pos_words_no + alpha * len(vocabulary.keys())))\n",
    "        log_neg += log((n + alpha) / (neg_words_no + alpha * len(vocabulary.keys())))\n",
    "    # ----------------------------------------------------------------------\n",
    "    \n",
    "    if log_pos > log_neg:\n",
    "        return \"pos\", log_pos\n",
    "    else:\n",
    "        return \"neg\", log_neg\n",
    "\n",
    "# -- VERIFICARE --\n",
    "print(zipFile.read(pos_test[14]).decode(\"utf-8\"))\n",
    "predict(training_result_words, pos_test[14])\n",
    "\n",
    "# Daca se comentează liniile care reordonează aleator listele cu exemplele pozitive și negative,\n",
    "# rezultatul așteptat este:\n",
    "#\n",
    "# ('pos', -1790.27088356391) pentru un film cu Hugh Grant și Julia Roberts (o mizerie siropoasă)\n",
    "#\n",
    "# Recenzia este clasificată corect ca fiind pozitivă."
   ]
  },
  {
   "cell_type": "markdown",
   "metadata": {},
   "source": [
    "## 3. Evaluarea modelului\n",
    "\n",
    "Pentru a evalua modelul vom calcula acuratețea acestuia și matricea de confuzie, folosind datele de test (`pos_test` și `neg_test`).\n",
    "\n",
    "[Vedeți aici despre matricea de confuzie](https://en.wikipedia.org/wiki/Confusion_matrix)"
   ]
  },
  {
   "cell_type": "code",
   "execution_count": 40,
   "metadata": {},
   "outputs": [
    {
     "name": "stdout",
     "output_type": "stream",
     "text": [
      "Acuratetea pe setul de date de test:  84.75 %. Matricea de confuzie:\n",
      "    |     pos      |     neg    \n",
      "--- + ------------ + ------------\n",
      "pos |     167      |      33    \n",
      "neg |      28      |     172    \n"
     ]
    }
   ],
   "source": [
    "def evaluate(params, prediction_func):\n",
    "    conf_matrix = {}\n",
    "    conf_matrix[\"pos\"] = {\"pos\": 0, \"neg\": 0}\n",
    "    conf_matrix[\"neg\"] = {\"pos\": 0, \"neg\": 0}\n",
    "    accuracy = 0\n",
    "    \n",
    "    # ----------------------------------------------------------------------\n",
    "    # <TODO 3> : Calcularea acurateței și a matricei de confuzie\n",
    "    for pos_doc in pos_test:\n",
    "        y_pred, _ = prediction_func(params, pos_doc)\n",
    "        if y_pred == 'pos':\n",
    "            accuracy += 1\n",
    "            conf_matrix['pos']['pos'] += 1\n",
    "        else:\n",
    "            conf_matrix['pos']['neg'] += 1\n",
    "    for neg_doc in neg_test:\n",
    "        y_pred, _ = prediction_func(params, neg_doc)\n",
    "        if y_pred == 'neg':\n",
    "            accuracy += 1\n",
    "            conf_matrix['neg']['neg'] += 1\n",
    "        else:\n",
    "            conf_matrix['neg']['pos'] += 1\n",
    "    accuracy /= len(pos_test) + len(neg_test)\n",
    "    #------------------------------------------------------------\n",
    "    \n",
    "    return accuracy, conf_matrix\n",
    "# -----------------------------------------------------------\n",
    "\n",
    "def print_confusion_matrix(cm):\n",
    "    print(\"    | \", \"{0:^10}\".format(\"pos\"), \" | \", \"{0:^10}\".format(\"neg\"))\n",
    "    print(\"{0:-^3}\".format(\"\"), \"+\", \"{0:-^12}\".format(\"\"), \"+\", \"{0:-^12}\".format(\"-\", fill=\"-\"))\n",
    "    print(\"pos | \", \"{0:^10}\".format(cm[\"pos\"][\"pos\"]), \" | \", \"{0:^10}\".format(cm[\"pos\"][\"neg\"]))\n",
    "    print(\"neg | \", \"{0:^10}\".format(cm[\"neg\"][\"pos\"]), \" | \", \"{0:^10}\".format(cm[\"neg\"][\"neg\"]))\n",
    "\n",
    "\n",
    "# -- VERIFICARE --\n",
    "(acc_words, cm_words) = evaluate(training_result_words, predict)\n",
    "print(\"Acuratetea pe setul de date de test: \", acc_words * 100, \"%. Matricea de confuzie:\")\n",
    "print_confusion_matrix(cm_words)\n",
    "\n",
    "# Daca se comentează liniile care reordonează aleator listele cu exemplele pozitive și negative,\n",
    "# rezultatul așteptat este:\n",
    "#\n",
    "# Acuratetea pe setul de date de test:  80.5 %. Matricea de confuzie:\n",
    "#     |     pos      |     neg    \n",
    "# --- + ------------ + ------------\n",
    "# pos |     155      |      45    \n",
    "# neg |      33      |     167"
   ]
  },
  {
   "cell_type": "markdown",
   "metadata": {},
   "source": [
    "## 4. Un model mai bun? Să folosim bigrame? Da!\n",
    "\n",
    "Implementați funcția `count_bigrams`, similară cu `count_words`, doar că de data aceasta dicționarul va conține bigramele din text. Funcția va întoarce tot trei elemente: dicționarul cu aparițiile în recenzii pozitive și în recenzii negative ale bigramelor, numărul total de bigrame din recenziile pozitive și numărul total de bigrame din recenziile negative.\n",
    "\n",
    "Salvați o bigramă prin concatenarea primului cuvânt, semnului \":\" și a celui de-al doilea cuvânt. De exemplu: `\"texas:ranger\"`."
   ]
  },
  {
   "cell_type": "code",
   "execution_count": 41,
   "metadata": {},
   "outputs": [
    {
     "name": "stdout",
     "output_type": "stream",
     "text": [
      "Tabelul are  431729  bigrame.\n",
      "533273  bigrame in recenziile pozitive si  468558  bigrame in recenziile negative\n",
      "Bigrama 'beautiful actress' are  (1, 0)  aparitii.\n",
      "Bigrama 'awful movie' are  (1, 4)  aparitii.\n"
     ]
    }
   ],
   "source": [
    "def count_bigrams():\n",
    "    bigrams = {}\n",
    "    pos_bigrams_no = 0\n",
    "    neg_bigrams_no = 0\n",
    "\n",
    "    # ----------------------------------------------------------------------\n",
    "    # <TODO 4>: Numarati bigramele\n",
    "    for pos_doc in pos_train:\n",
    "        prev_w = None\n",
    "        for w in parse_document(pos_doc):\n",
    "            if prev_w is None:\n",
    "                prev_w = w\n",
    "                continue\n",
    "            bigram = prev_w + ':' + w\n",
    "            pos_bigrams_no += 1\n",
    "            prev_w = w\n",
    "            if bigram in bigrams:\n",
    "                bigrams[bigram] = (bigrams[bigram][0] + 1, bigrams[bigram][1])\n",
    "            else:\n",
    "                bigrams[bigram] = (1, 0)\n",
    "    for neg_doc in neg_train:\n",
    "        prev_w = None\n",
    "        for w in parse_document(neg_doc):\n",
    "            if prev_w is None:\n",
    "                prev_w = w\n",
    "                continue\n",
    "            bigram = prev_w + ':' + w\n",
    "            neg_bigrams_no += 1\n",
    "            prev_w = w\n",
    "            if bigram in bigrams:\n",
    "                bigrams[bigram] = (bigrams[bigram][0], bigrams[bigram][1] + 1)\n",
    "            else:\n",
    "                bigrams[bigram] = (0, 1)\n",
    "    #-----------------------------------------------\n",
    "\n",
    "    return bigrams, pos_bigrams_no, neg_bigrams_no\n",
    "\n",
    "# -- VERIFICARE --\n",
    "training_result_bigrams = count_bigrams()\n",
    "\n",
    "(big, pos_b, neg_b) = training_result_bigrams\n",
    "print(\"Tabelul are \", len(big), \" bigrame.\")\n",
    "print(pos_b, \" bigrame in recenziile pozitive si \", neg_b, \" bigrame in recenziile negative\")\n",
    "print(\"Bigrama 'beautiful actress' are \", big.get(\"beautiful:actress\", (0, 0)), \" aparitii.\")\n",
    "print(\"Bigrama 'awful movie' are \", big.get(\"awful:movie\", (0, 0)), \" aparitii.\")\n",
    "\n",
    "# Daca se comentează liniile care reordonează aleator listele cu exemplele pozitive și negative,\n",
    "# rezultatul așteptat este:\n",
    "#\n",
    "# Tabelul are  428997  bigrame.\n",
    "# 525467  bigrame in recenziile pozitive si  469012  bigrame in recenziile negative\n",
    "# Bigrama 'beautiful actress' are  (2, 0)  aparitii.\n",
    "# Bigrama 'awful movie' are  (1, 4)  aparitii."
   ]
  },
  {
   "cell_type": "markdown",
   "metadata": {},
   "source": [
    "### Funcția de predicție folosind bigrame\n",
    "\n",
    "Implementați funcția `predict2` care să calculeze logaritmul probabilității fiecărei clase pe baza bigramelor din text. Trebuie să calculați `log_pos` și `log_neg`."
   ]
  },
  {
   "cell_type": "code",
   "execution_count": 42,
   "metadata": {},
   "outputs": [
    {
     "name": "stdout",
     "output_type": "stream",
     "text": [
      "billed as a \" feminist sex fantasy \" , this spirited , imaginative and thoroughly engaging film by the award-winning canadian director cynthia roberts , is destined for extreme reactions . \n",
      "camille paglia enthusiasts will no doubt champion this heart-felt tale of the title character bubbles galore ( nina hartley ) , a porn-actress-turned-porn-producer who faces an uphill battle in her quest for sexual and economic independence . \n",
      "however , those in the andrea dworkin camp , will no doubt loathe the film's decidedly pro-porn stance . \n",
      "political considerations aside , however , this is a delightful lesbian love story as the film takes us on a whirlwind tour of bubbles' romantic entanglements with a naive and virginal young porn starlet dory drawers ( shauny sexton ) . \n",
      "in the backdrop , however is bubbles' loyal assistant vivian klitorsky ( tracy wright ) who pines longingly for the affections of her bubbly boss . \n",
      "this femme-butch-femme triangle is what provides the film with considerable humanity * and * sensuality . \n",
      "in addition to the romantic aspects of the story , bubbles is being stalked and terrorized by her ex-boyfriend godfrey montana ( daniel macivor ) , a slimy porn mogul who wishes to make her life as miserable as he can possibly make it . \n",
      "when his plans to sabotage her latest film fall through , he snaps and psychotically decides to kill her . \n",
      "these proceedings are presided over by a most heavenly presence . \n",
      "god herself - yes , in the world of this film , god , is most definitely a \" her \" - and a chorus of undulating , scantily-clad angels , have their most watchful and lustful eyes on the events as they unfold , adding a lovely fantasy element to this frothy concoction . \n",
      "this bright , colourful and deliriously sexy film is chock-full of great performances . \n",
      "making her dramatic debut , after appearing in over 300 triple x adult films , porn star nina hartley takes command of her role with considerable assurance and a screen presence which puts many other contemporary 'straight' actresses to shame . \n",
      "hartley has overwhelming star power , and one wonders why other non-triple-x producers haven't used her bountiful talents . \n",
      "it is also interesting to note that hartley appears in the recent release of \" boogie nights \" , a film which takes a far more traditional doom-and-gloom approach to the porn industry . \n",
      "making a cameo appearance in the role of god , former porn actress annie sprinkle , a true artist in her own right - gives the entire film an earthy , sensual glow and certainly solidifies and , by her very appearance , downright justifies the themes of the movie . \n",
      "the other performances are equally solid . \n",
      "daniel macivor appropriately chews up the scenery as the villainous godfrey and tracy wright lends able support with her complex role . \n",
      "shauny sexton , an erotic dancer and pin-up model , makes an impressive screen debut . \n",
      "overall , bubbles galore is a film which wears its politics on its sleeve and very proudly indeed . \n",
      "at one point , the title character declares that \" instead of trying to save women from the sex trade , we should be working to ensure that the sex trade is a safe place for women to work \" . \n",
      "the direction by cynthia roberts is daring and subversive . \n",
      "roberts is not afraid to plunge the otherwise straight-ahead and simple narrative into extended and extremely avant-garde montage sequences . \n",
      "the love scenes between the women are especially beautiful . \n",
      "the musical score by nicholas stirling blends cool jazz and lounge stylings , while the skilful cinematography by harald bachmann terrifically captures a blend of garish 70's porn and psychedelia . \n",
      "amazingly , this film appears to have received a good deal of its funding from a variety of canadian government cultural agencies . \n",
      "this speaks volumes towards the importance of state funding for culture , as one cannot imagine such an entertaining , original and vital film being made in a traditional setting where conformity and formula rule the day . \n",
      "bubbles galore seems to be making the film festival rounds and does not , at present , appear to have any traditional distribution in place , so keep your eye on the alternative film listings for this one . \n",
      "it's funny , sexy and subversive . \n",
      "and it shouldn't be missed . \n",
      "\n"
     ]
    },
    {
     "data": {
      "text/plain": [
       "('pos', -7851.122818468017)"
      ]
     },
     "execution_count": 42,
     "metadata": {},
     "output_type": "execute_result"
    }
   ],
   "source": [
    "def predict2(params, path, alpha = 1):\n",
    "    (bigrams, pos_bigrams_no, neg_bigrams_no) = params\n",
    "    log_pos = log(0.5)\n",
    "    log_neg = log(0.5)\n",
    "    \n",
    "    # ----------------------------------------------------------------------\n",
    "    # <TODO 5> Calculul logaritmilor probabilităților folosind bigramele\n",
    "    prev_w = None\n",
    "    for w in parse_document(path):\n",
    "        if prev_w is None:\n",
    "            prev_w = w\n",
    "            continue\n",
    "        bigram = prev_w + ':' + w\n",
    "        prev_w = w\n",
    "        (p, n) = bigrams.get(bigram, (0, 0))\n",
    "        log_pos += log((p + alpha) / (pos_bigrams_no + alpha * len(bigrams.keys())))\n",
    "        log_neg += log((n + alpha) / (neg_bigrams_no + alpha * len(bigrams.keys())))\n",
    "    # ----------------------------------------------------------------------\n",
    "    \n",
    "    if log_pos > log_neg:\n",
    "        return \"pos\", log_pos\n",
    "    else:\n",
    "        return \"neg\", log_neg\n",
    "    \n",
    "# -- VERIFICARE --\n",
    "print(zipFile.read(pos_test[14]).decode(\"utf-8\"))\n",
    "predict2(training_result_bigrams, pos_test[14])\n",
    "\n",
    "# Daca se comentează liniile care reordonează aleator listele cu exemplele pozitive și negative,\n",
    "# rezultatul așteptat este:\n",
    "#\n",
    "# ('pos', -3034.428732037113) pentru același film cu Hugh Grant"
   ]
  },
  {
   "cell_type": "code",
   "execution_count": 43,
   "metadata": {},
   "outputs": [
    {
     "name": "stdout",
     "output_type": "stream",
     "text": [
      "Acuratetea pe setul de date de test, cu bigrame:  84.75 %. Matricea de confuzie:\n",
      "    |     pos      |     neg    \n",
      "--- + ------------ + ------------\n",
      "pos |     166      |      34    \n",
      "neg |      27      |     173    \n"
     ]
    }
   ],
   "source": [
    "# -- VERIFICARE --\n",
    "(acc_bigrams, cm_bigrams) = evaluate(training_result_bigrams, predict2)\n",
    "print(\"Acuratetea pe setul de date de test, cu bigrame: \", acc_bigrams * 100, \"%. Matricea de confuzie:\")\n",
    "print_confusion_matrix(cm_bigrams)\n",
    "\n",
    "# Daca se comentează liniile care reordonează aleator listele cu exemplele pozitive și negative,\n",
    "# rezultatul așteptat este:\n",
    "#\n",
    "# Acuratetea pe setul de date de test:  84.5 %. Matricea de confuzie:\n",
    "#     |     pos      |     neg    \n",
    "# --- + ------------ + ------------\n",
    "# pos |     161      |      39    \n",
    "# neg |      23      |     177   "
   ]
  },
  {
   "cell_type": "markdown",
   "metadata": {},
   "source": [
    "## La final...\n",
    "\n",
    " 1. Decomentați liniile care reordonează aleator listele cu exemplele pozitive și cele negative (secțiunea \"Setul de antrenare și setul de testare\"). Rulați de mai multe ori. Este întotdeauna mai bun modelul cu bigrame? Acuratețea variază mult de la o rulare la alta?\n",
    " 2. Încercați să eliminați cuvintele de legătură (linia cu `STOP_WORDS`, din secțiunea \"Construirea vocabularului...\"). Ce impact are asupra performanței celor două modele?"
   ]
  },
  {
   "cell_type": "code",
   "execution_count": 44,
   "metadata": {},
   "outputs": [
    {
     "name": "stdout",
     "output_type": "stream",
     "text": [
      "Acuratetea pe setul de date de test, cu cuvinte simple:  84.75 %. Matricea de confuzie:\n",
      "    |     pos      |     neg    \n",
      "--- + ------------ + ------------\n",
      "pos |     167      |      33    \n",
      "neg |      28      |     172    \n",
      "\n",
      "\n",
      "Acuratetea pe setul de date de test, cu bigrame:  84.75 %. Matricea de confuzie:\n",
      "    |     pos      |     neg    \n",
      "--- + ------------ + ------------\n",
      "pos |     166      |      34    \n",
      "neg |      27      |     173    \n"
     ]
    }
   ],
   "source": [
    "print(\"Acuratetea pe setul de date de test, cu cuvinte simple: \", acc_words * 100, \"%. Matricea de confuzie:\")\n",
    "print_confusion_matrix(cm_words)\n",
    "\n",
    "print(\"\\n\\nAcuratetea pe setul de date de test, cu bigrame: \", acc_bigrams * 100, \"%. Matricea de confuzie:\")\n",
    "print_confusion_matrix(cm_bigrams)\n"
   ]
  },
  {
   "cell_type": "code",
   "execution_count": null,
   "metadata": {
    "collapsed": true
   },
   "outputs": [],
   "source": []
  }
 ],
 "metadata": {
  "kernelspec": {
   "display_name": "Python 3",
   "language": "python",
   "name": "python3"
  },
  "language_info": {
   "codemirror_mode": {
    "name": "ipython",
    "version": 3
   },
   "file_extension": ".py",
   "mimetype": "text/x-python",
   "name": "python",
   "nbconvert_exporter": "python",
   "pygments_lexer": "ipython3",
   "version": "3.7.1"
  }
 },
 "nbformat": 4,
 "nbformat_minor": 1
}
