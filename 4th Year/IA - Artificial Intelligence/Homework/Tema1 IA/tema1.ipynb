{
 "cells": [
  {
   "cell_type": "markdown",
   "id": "b2b52a56",
   "metadata": {},
   "source": [
    "# Tema 1 - Inteligenta Artificiala \n",
    "**Grigore Lucian-Florin** 343C4"
   ]
  },
  {
   "cell_type": "code",
   "execution_count": 5,
   "id": "35fc5410",
   "metadata": {},
   "outputs": [],
   "source": [
    "# libraries used\n",
    "import json\n",
    "from math import inf\n",
    "import matplotlib.pyplot as plt\n",
    "from copy import deepcopy, copy\n",
    "import numpy as np\n",
    "from heapq import heappop, heappush\n",
    "from time import process_time\n",
    "import tracemalloc\n",
    "\n",
    "# macros for state template\n",
    "ROWS = \"rows\"\n",
    "COLUMNS = \"columns\"\n",
    "GRID = \"grid\" \n",
    "HEIGHT = \"height\"\n",
    "WIDTH = \"width\"\n",
    "CURRENT_POSITION = \"current_position\"\n",
    "TAG = \"tag\"\n",
    "CHILDREN = \"children\"\n",
    "PATH = \"path\"\n",
    "PARENT = \"parent\"\n",
    "NAME = \"name\"\n",
    "\n",
    "# state tags\n",
    "UNEXPLORED = \"unexplored\"\n",
    "EXPLORED = \"explored\"\n",
    "SOLVED = \"solved\"\n",
    "UNSOLVABLE = \"unsolvable\"\n",
    "\n",
    "# possible moves on the grid\n",
    "COLOR, UP, LEFT, DOWN, RIGHT = 'color', 'up', 'left', 'down', 'right'\n",
    "moves = [COLOR, UP, LEFT, DOWN, RIGHT]\n",
    "\n",
    "# tests\n",
    "tests = ['test1.json', 'test2.json', 'test3.json', 'test4.json', 'test5.json', 'test6.json']"
   ]
  },
  {
   "cell_type": "code",
   "execution_count": 6,
   "id": "3bc8e0dc",
   "metadata": {},
   "outputs": [],
   "source": [
    "# function to read and write data\n",
    "def io_data(filename = \"\", data = None):\n",
    "    if filename == \"\":\n",
    "        raise ValueError(\"Invalid filename\")\n",
    "    if data is None:\n",
    "        with open(filename, 'r') as f:\n",
    "            return json.load(f)\n",
    "    else:\n",
    "        with open(filename, 'w') as f:\n",
    "            json.dump(data, f)\n",
    "\n",
    "def read_test(testname):\n",
    "    data = io_data(testname)\n",
    "    \n",
    "    state = {}\n",
    "    state[ROWS] = data[ROWS]\n",
    "    state[COLUMNS] = data[COLUMNS]\n",
    "    state[HEIGHT] = data[HEIGHT]\n",
    "    state[WIDTH] = data[WIDTH]\n",
    "    state[GRID] = [[0 for _ in range(state[WIDTH])] for _ in range(state[HEIGHT])]\n",
    "    state[CURRENT_POSITION] = None\n",
    "    state[PATH] = []\n",
    "    state[PARENT] = None\n",
    "    state[NAME] = data[NAME]\n",
    "    \n",
    "    return state\n",
    "\n",
    "def read_solution(testname):\n",
    "    data = io_data(testname)\n",
    "    \n",
    "    state = {}\n",
    "    state[ROWS] = data[ROWS]\n",
    "    state[COLUMNS] = data[COLUMNS]\n",
    "    state[HEIGHT] = data[HEIGHT]\n",
    "    state[WIDTH] = data[WIDTH]\n",
    "    state[GRID] = data[GRID]\n",
    "    state[CURRENT_POSITION] = None\n",
    "    state[PATH] = []\n",
    "    state[PARENT] = None\n",
    "    state[NAME] = data[NAME]\n",
    "    \n",
    "    return state"
   ]
  },
  {
   "cell_type": "code",
   "execution_count": 7,
   "id": "f2dc3c04",
   "metadata": {},
   "outputs": [],
   "source": [
    "def print_results(algoname, state, testname, time_duration, total_memory, no_gen_nodes, no_expanded_nodes, solution_path):\n",
    "    print(f'=============== Test Analysis using {algoname} on test \\'{testname}\\' ===============')\n",
    "    print(f'Total duration: {time_duration} seconds')\n",
    "    print(f'Total memory used: {total_memory / 1024} KB')\n",
    "    print(f'Number of generated nodes: {no_gen_nodes} nodes')\n",
    "    print(f'Number of completely expanded nodes: {no_expanded_nodes} nodes')\n",
    "    print(f'Path used to get to solution: {solution_path}')\n",
    "    plt.imshow(state[GRID], cmap='Greys')\n",
    "    plt.show()\n",
    "    \n",
    "def run(algoname, algo, init_state, testname):\n",
    "    print(f'Generating state space for test \\'{init_state[NAME]}\\' ...')\n",
    "    global all_rows\n",
    "    all_rows = gen_all_rows(init_state[ROWS], init_state[WIDTH])\n",
    "    print(f'Done generating state space!')\n",
    "    \n",
    "    print('Running algorithm...')\n",
    "    state = deepcopy(init_state)\n",
    "    start_time = process_time()\n",
    "    sol = algo(state)\n",
    "    end_time = process_time()\n",
    "    time_duration = end_time - start_time\n",
    "    \n",
    "    state = deepcopy(init_state)\n",
    "    tracemalloc.start()\n",
    "    sol = algo(state)\n",
    "    total_memory = tracemalloc.get_traced_memory()[1]\n",
    "    tracemalloc.stop()\n",
    "    \n",
    "    global no_generated_nodes\n",
    "    no_gen_nodes = no_generated_nodes\n",
    "    global no_expanded_nodes\n",
    "    no_exp_nodes = no_expanded_nodes\n",
    "    \n",
    "    if sol:\n",
    "        print_results(algoname, sol, sol[NAME], time_duration, total_memory, no_gen_nodes, no_exp_nodes, sol[PATH])\n",
    "    else:\n",
    "        print('No solution found for given state using given algorithm')\n",
    "\n",
    "def run_suite(algoname, algo, max_test_no = -1):\n",
    "    if max_test_no >= 0:\n",
    "        idx = 0\n",
    "    for test in tests:\n",
    "        init_state = read_test(test)\n",
    "        run(algoname, algo, init_state, test)\n",
    "        if max_test_no >= 0:\n",
    "            idx += 1\n",
    "            if idx == max_test_no:\n",
    "                break"
   ]
  },
  {
   "cell_type": "code",
   "execution_count": 8,
   "id": "1061040c",
   "metadata": {},
   "outputs": [],
   "source": [
    "def check_rows(state):\n",
    "    for i in range(state[HEIGHT]):\n",
    "        lst = []\n",
    "        curr_sum = 0\n",
    "        for j in range(state[WIDTH]):\n",
    "            if state[GRID][i][j] == 1:\n",
    "                curr_sum += 1\n",
    "            else:\n",
    "                if curr_sum > 0:\n",
    "                    lst.append(curr_sum)\n",
    "                    curr_sum = 0\n",
    "        if curr_sum > 0:\n",
    "            lst.append(curr_sum)\n",
    "        if lst != state[ROWS][i]:\n",
    "            return False\n",
    "    return True\n",
    "\n",
    "def check_columns(state):\n",
    "    for i in range(state[WIDTH]):\n",
    "        lst = []\n",
    "        curr_sum = 0\n",
    "        for j in range(state[HEIGHT]):\n",
    "            if state[GRID][j][i] == 1:\n",
    "                curr_sum += 1\n",
    "            else:\n",
    "                if curr_sum > 0:\n",
    "                    lst.append(curr_sum)\n",
    "                    curr_sum = 0\n",
    "        if curr_sum > 0:\n",
    "            lst.append(curr_sum)\n",
    "        if lst != state[COLUMNS][i]:\n",
    "            return False\n",
    "    return True\n",
    "\n",
    "def is_state_final(state):\n",
    "    return check_columns(state)\n",
    "\n",
    "def is_state_in_list(s, lst):\n",
    "    for state in lst:\n",
    "        if s[CURRENT_POSITION] == state[CURRENT_POSITION] and s[GRID] == state[GRID]:\n",
    "            return True\n",
    "    return False\n",
    "\n",
    "def validate(sol, idx, width, row):\n",
    "    if idx < width - 1:\n",
    "        return True\n",
    "    lst = []\n",
    "    curr_sum = 0\n",
    "    for x in sol:\n",
    "        if x == 1:\n",
    "            curr_sum += 1\n",
    "        else:\n",
    "            if curr_sum > 0:\n",
    "                lst.append(curr_sum)\n",
    "                curr_sum = 0\n",
    "    if curr_sum > 0:\n",
    "        lst.append(curr_sum)\n",
    "    return lst == row\n",
    "        \n",
    "def backtr_row(row, width):\n",
    "    lst = []\n",
    "    v = [-1 for _ in range(width)]\n",
    "    init_val = -1\n",
    "    inc_val = 1\n",
    "    max_val = 1\n",
    "    i = 0\n",
    "    \n",
    "    while i >= 0:\n",
    "        done = False\n",
    "        while not done and v[i] <= max_val:\n",
    "            v[i] = v[i] + inc_val\n",
    "            done = validate(v, i, width, row)\n",
    "        if v[i] <= max_val:\n",
    "            if i == width - 1:\n",
    "                lst.append(copy(v))\n",
    "            else:\n",
    "                i += 1\n",
    "        else:\n",
    "            v[i] = init_val\n",
    "            i -= 1\n",
    "            \n",
    "    return lst\n",
    "    \n",
    "def gen_all_rows(rows, width):\n",
    "    return [backtr_row(row, width) for row in rows]\n",
    "\n",
    "def gen_next_moves(state, row_index, all_rows):\n",
    "    return all_rows[row_index]"
   ]
  },
  {
   "cell_type": "code",
   "execution_count": 9,
   "id": "2dd78a9d",
   "metadata": {
    "scrolled": false
   },
   "outputs": [
    {
     "name": "stdout",
     "output_type": "stream",
     "text": [
      "Generating state space for test 'smile' ...\n",
      "Done generating state space!\n",
      "Running algorithm...\n",
      "=============== Test Analysis using Breadth-First Search on test 'smile' ===============\n",
      "Total duration: 0.004613999999999674 seconds\n",
      "Total memory used: 58.2880859375 KB\n",
      "Number of generated nodes: 28 nodes\n",
      "Number of completely expanded nodes: 21 nodes\n",
      "Path used to get to solution: [[1, 1, 0, 1, 1], [1, 1, 0, 1, 1], [0, 0, 0, 0, 0], [1, 0, 0, 0, 1], [0, 1, 1, 1, 0]]\n"
     ]
    },
    {
     "data": {
      "image/png": "[encoded data removed]",
      "text/plain": [
       "<Figure size 432x288 with 1 Axes>"
      ]
     },
     "metadata": {
      "needs_background": "light"
     },
     "output_type": "display_data"
    },
    {
     "name": "stdout",
     "output_type": "stream",
     "text": [
      "Generating state space for test 'tower' ...\n",
      "Done generating state space!\n",
      "Running algorithm...\n",
      "=============== Test Analysis using Breadth-First Search on test 'tower' ===============\n",
      "Total duration: 0.01809599999999989 seconds\n",
      "Total memory used: 169.0224609375 KB\n",
      "Number of generated nodes: 78 nodes\n",
      "Number of completely expanded nodes: 50 nodes\n",
      "Path used to get to solution: [[1, 0, 1, 0, 1], [1, 1, 1, 1, 1], [0, 1, 1, 1, 0], [0, 1, 0, 1, 0], [0, 1, 1, 1, 0]]\n"
     ]
    },
    {
     "data": {
      "image/png": "[encoded data removed]",
      "text/plain": [
       "<Figure size 432x288 with 1 Axes>"
      ]
     },
     "metadata": {
      "needs_background": "light"
     },
     "output_type": "display_data"
    }
   ],
   "source": [
    "def bfs(init_state):\n",
    "    global all_rows\n",
    "    frontier = [(init_state, 0)]\n",
    "    explored = []\n",
    "    \n",
    "    global no_generated_nodes\n",
    "    global no_expanded_nodes\n",
    "    no_generated_nodes = 1\n",
    "    no_expanded_nodes = 0\n",
    "    \n",
    "    while frontier:\n",
    "        curr_state, curr_row_index = frontier.pop(0)\n",
    "        no_expanded_nodes += 1\n",
    "        if curr_row_index == curr_state[HEIGHT]:\n",
    "            if is_state_final(curr_state):\n",
    "                return curr_state\n",
    "            continue\n",
    "            \n",
    "        explored.append((curr_state, curr_row_index))\n",
    "        next_moves = gen_next_moves(curr_state, curr_row_index, all_rows)\n",
    "        if not next_moves:\n",
    "            continue\n",
    "                \n",
    "        for next_move in next_moves:\n",
    "            no_generated_nodes += 1\n",
    "            child_state = deepcopy(curr_state)\n",
    "            child_state[CURRENT_POSITION] = next_move\n",
    "            child_state[GRID][curr_row_index] = next_move\n",
    "            child_state[PATH].append(next_move)\n",
    "            if (child_state, curr_row_index + 1) not in explored and (child_state, curr_row_index + 1) not in frontier:\n",
    "                frontier.append((child_state, curr_row_index + 1))\n",
    "    \n",
    "    return None\n",
    "\n",
    "run_suite(\"Breadth-First Search\", bfs, 2)"
   ]
  },
  {
   "cell_type": "code",
   "execution_count": 10,
   "id": "5ebe8445",
   "metadata": {
    "scrolled": false
   },
   "outputs": [
    {
     "name": "stdout",
     "output_type": "stream",
     "text": [
      "Generating state space for test 'smile' ...\n",
      "Done generating state space!\n",
      "Running algorithm...\n",
      "=============== Test Analysis using Depth-First Search on test 'smile' ===============\n",
      "Total duration: 0.003105999999999831 seconds\n",
      "Total memory used: 23.25 KB\n",
      "Number of generated nodes: 19 nodes\n",
      "Number of completely expanded nodes: 15 nodes\n",
      "Path used to get to solution: [[1, 1, 0, 1, 1], [1, 1, 0, 1, 1], [0, 0, 0, 0, 0], [1, 0, 0, 0, 1], [0, 1, 1, 1, 0]]\n"
     ]
    },
    {
     "data": {
      "image/png": "[encoded data removed]",
      "text/plain": [
       "<Figure size 432x288 with 1 Axes>"
      ]
     },
     "metadata": {
      "needs_background": "light"
     },
     "output_type": "display_data"
    },
    {
     "name": "stdout",
     "output_type": "stream",
     "text": [
      "Generating state space for test 'tower' ...\n",
      "Done generating state space!\n",
      "Running algorithm...\n",
      "=============== Test Analysis using Depth-First Search on test 'tower' ===============\n",
      "Total duration: 0.014625999999999806 seconds\n",
      "Total memory used: 41.7021484375 KB\n",
      "Number of generated nodes: 48 nodes\n",
      "Number of completely expanded nodes: 44 nodes\n",
      "Path used to get to solution: [[1, 0, 1, 0, 1], [1, 1, 1, 1, 1], [0, 1, 1, 1, 0], [0, 1, 0, 1, 0], [0, 1, 1, 1, 0]]\n"
     ]
    },
    {
     "data": {
      "image/png": "[encoded data removed]",
      "text/plain": [
       "<Figure size 432x288 with 1 Axes>"
      ]
     },
     "metadata": {
      "needs_background": "light"
     },
     "output_type": "display_data"
    }
   ],
   "source": [
    "def dfs(init_state):\n",
    "    global all_rows\n",
    "    stack = [(init_state, 0)]\n",
    "    explored = []\n",
    "    \n",
    "    global no_generated_nodes\n",
    "    global no_expanded_nodes\n",
    "    no_generated_nodes = 1\n",
    "    no_expanded_nodes = 0\n",
    "    \n",
    "    while stack:\n",
    "        curr_state, curr_row_index = stack.pop(0)\n",
    "        no_expanded_nodes += 1\n",
    "        if curr_row_index == curr_state[HEIGHT]:\n",
    "            if is_state_final(curr_state):\n",
    "                return curr_state\n",
    "            continue\n",
    "            \n",
    "        explored.append((curr_state, curr_row_index))\n",
    "        next_moves = gen_next_moves(curr_state, curr_row_index, all_rows)\n",
    "        if not next_moves:\n",
    "            continue\n",
    "                \n",
    "        for next_move in next_moves:\n",
    "            no_generated_nodes += 1\n",
    "            child_state = deepcopy(curr_state)\n",
    "            child_state[CURRENT_POSITION] = next_move\n",
    "            child_state[GRID][curr_row_index] = next_move\n",
    "            child_state[PATH].append(next_move)\n",
    "            \n",
    "            if (child_state, curr_row_index + 1) not in explored and (child_state, curr_row_index + 1) not in stack:\n",
    "                stack.insert(0, (child_state, curr_row_index + 1))\n",
    "    \n",
    "    return None\n",
    "\n",
    "run_suite(\"Depth-First Search\", dfs, 2)"
   ]
  },
  {
   "cell_type": "code",
   "execution_count": 11,
   "id": "a9e0d9ca",
   "metadata": {},
   "outputs": [
    {
     "name": "stdout",
     "output_type": "stream",
     "text": [
      "Generating state space for test 'smile' ...\n",
      "Done generating state space!\n",
      "Running algorithm...\n",
      "=============== Test Analysis using Iterative Deepening DFS on test 'smile' ===============\n",
      "Total duration: 0.013325999999999283 seconds\n",
      "Total memory used: 32.994140625 KB\n",
      "Number of generated nodes: 19 nodes\n",
      "Number of completely expanded nodes: 15 nodes\n",
      "Path used to get to solution: [[1, 1, 0, 1, 1], [1, 1, 0, 1, 1], [0, 0, 0, 0, 0], [1, 0, 0, 0, 1], [0, 1, 1, 1, 0]]\n"
     ]
    },
    {
     "data": {
      "image/png": "[encoded data removed]",
      "text/plain": [
       "<Figure size 432x288 with 1 Axes>"
      ]
     },
     "metadata": {
      "needs_background": "light"
     },
     "output_type": "display_data"
    },
    {
     "name": "stdout",
     "output_type": "stream",
     "text": [
      "Generating state space for test 'tower' ...\n",
      "Done generating state space!\n",
      "Running algorithm...\n",
      "=============== Test Analysis using Iterative Deepening DFS on test 'tower' ===============\n",
      "Total duration: 0.0663020000000003 seconds\n",
      "Total memory used: 60.8427734375 KB\n",
      "Number of generated nodes: 48 nodes\n",
      "Number of completely expanded nodes: 44 nodes\n",
      "Path used to get to solution: [[1, 0, 1, 0, 1], [1, 1, 1, 1, 1], [0, 1, 1, 1, 0], [0, 1, 0, 1, 0], [0, 1, 1, 1, 0]]\n"
     ]
    },
    {
     "data": {
      "image/png": "[encoded data removed]",
      "text/plain": [
       "<Figure size 432x288 with 1 Axes>"
      ]
     },
     "metadata": {
      "needs_background": "light"
     },
     "output_type": "display_data"
    }
   ],
   "source": [
    "def dfs_max_depth(init_state, max_depth):\n",
    "    global all_rows\n",
    "    depth = 0\n",
    "    stack = [(init_state, 0, 0)]\n",
    "    explored = []\n",
    "    \n",
    "    global no_generated_nodes\n",
    "    global no_expanded_nodes\n",
    "    no_generated_nodes = 1\n",
    "    no_expanded_nodes = 0\n",
    "    \n",
    "    while stack:\n",
    "        curr_state, curr_depth, curr_row_index = stack.pop(0)\n",
    "        no_expanded_nodes += 1\n",
    "        \n",
    "        if curr_depth > max_depth:\n",
    "            continue\n",
    "            \n",
    "        if curr_row_index == curr_state[HEIGHT]:\n",
    "            if is_state_final(curr_state):\n",
    "                return curr_depth, curr_state\n",
    "            continue\n",
    "        \n",
    "        explored.append((curr_state, curr_depth, curr_row_index))\n",
    "        next_moves = gen_next_moves(curr_state, curr_row_index, all_rows)\n",
    "        if not next_moves:\n",
    "            continue\n",
    "                \n",
    "        for next_move in next_moves:\n",
    "            no_generated_nodes += 1\n",
    "            child_state = deepcopy(curr_state)\n",
    "            child_state[CURRENT_POSITION] = next_move\n",
    "            child_state[GRID][curr_row_index] = next_move\n",
    "            child_state[PATH].append(next_move)\n",
    "            \n",
    "            if (child_state, curr_depth + 1, curr_row_index + 1) not in explored and (child_state, curr_depth +1, curr_row_index + 1) not in stack:\n",
    "                stack.insert(0, (child_state, curr_depth + 1, curr_row_index + 1))\n",
    "    \n",
    "    return max_depth, None\n",
    "\n",
    "def ids(state):\n",
    "    depth = 0\n",
    "    while depth < inf:\n",
    "        init_state = deepcopy(state)\n",
    "        curr_dfs_result = dfs_max_depth(init_state, depth)\n",
    "        if curr_dfs_result[0] < depth:\n",
    "            return curr_dfs_result[1]\n",
    "        depth += 1\n",
    "    return None\n",
    "\n",
    "run_suite(\"Iterative Deepening DFS\", ids, 2)"
   ]
  },
  {
   "cell_type": "code",
   "execution_count": 12,
   "id": "8962f1c8",
   "metadata": {},
   "outputs": [],
   "source": [
    "def function_cost1(state, sol):\n",
    "    state_grid = state[GRID]\n",
    "    sol_grid = sol[GRID]\n",
    "    height = state[HEIGHT]\n",
    "    width = state[WIDTH]\n",
    "    cost = 0\n",
    "    for i in range(height):\n",
    "        for j in range(width):\n",
    "            if state_grid[i][j] != sol_grid[i][j]:\n",
    "                cost += 1\n",
    "    return cost\n",
    "\n",
    "def function_cost2(state, sol):\n",
    "    cost = state[HEIGHT] * state[WIDTH]\n",
    "    for i in range(state[HEIGHT]):\n",
    "        row = state[GRID][state[HEIGHT] - i - 1]\n",
    "        if sum(row) > 0:\n",
    "            cost -= sum(row)\n",
    "    return cost"
   ]
  },
  {
   "cell_type": "code",
   "execution_count": 13,
   "id": "0dc7763d",
   "metadata": {
    "scrolled": true
   },
   "outputs": [],
   "source": [
    "class heap_node(object):\n",
    "    def __init__(self, cost, state, idx):\n",
    "        self.cost = cost\n",
    "        self.state = state\n",
    "        self.idx = idx\n",
    "    \n",
    "    def __lt__(self, other):\n",
    "        return self.cost < other.cost\n",
    "    \n",
    "    def __gt__(self, other):\n",
    "        return self.cost > other.cost\n",
    "    \n",
    "    def __eq__(self, other):\n",
    "        return self.cost == other.cost\n",
    "    \n",
    "    def expand(self):\n",
    "        return self.cost, self.state, self.idx\n",
    "    \n",
    "    def __str__(self):\n",
    "        return f'cost={self.cost}, state={self.state}, row_index={self.idx}'\n",
    "    \n",
    "def astar(start_state, end_state, fcost):\n",
    "    frontier = []\n",
    "    heappush(frontier, heap_node(0 + fcost(start_state, end_state), start_state, 0))\n",
    "    discovered = {(tuple(start_state[GRID][0]), 0): (None, 0)}\n",
    "    \n",
    "    global all_rows\n",
    "    global no_generated_nodes\n",
    "    global no_expanded_nodes\n",
    "    no_generated_nodes = 1\n",
    "    no_expanded_nodes = 0\n",
    "    \n",
    "    while frontier:\n",
    "        curr_cost, curr_state, curr_row_index = heappop(frontier).expand()\n",
    "        no_expanded_nodes += 1\n",
    "        prev_cost = discovered[(tuple(curr_state[GRID][curr_row_index - 1]), curr_row_index)][1]\n",
    "        \n",
    "        if curr_row_index == curr_state[HEIGHT]:\n",
    "            if is_state_final(curr_state):\n",
    "                break\n",
    "            continue\n",
    "        \n",
    "        next_moves = gen_next_moves(curr_state, curr_row_index, all_rows)\n",
    "        for next_move in next_moves:\n",
    "            next_move_cost = prev_cost + 1\n",
    "            no_generated_nodes += 1\n",
    "            \n",
    "            if (tuple(next_move), curr_row_index + 1) not in discovered or next_move_cost < discovered[(tuple(next_move), curr_row_index + 1)][1]:\n",
    "                discovered[(tuple(next_move), curr_row_index + 1)] = (curr_state, next_move_cost)\n",
    "                curr_state[GRID][curr_row_index] = next_move\n",
    "                next_state = deepcopy(curr_state)\n",
    "                next_state[CURRENT_POSITION] = next_move\n",
    "                next_state[GRID][curr_row_index] = next_move\n",
    "                next_state[PARENT] = curr_state\n",
    "                next_state[PATH].append(next_move)\n",
    "                heappush(frontier, heap_node(next_move_cost + fcost(next_state, end_state), next_state, curr_row_index + 1))\n",
    "                \n",
    "    return curr_state[PATH], end_state"
   ]
  },
  {
   "cell_type": "code",
   "execution_count": 14,
   "id": "20ad7ea3",
   "metadata": {
    "scrolled": false
   },
   "outputs": [
    {
     "name": "stdout",
     "output_type": "stream",
     "text": [
      "Generating state space for test 'smile' ...\n",
      "Done generating state space!\n",
      "Running algorithm with first cost function...\n",
      "=============== Test Analysis using A* with first cost function on test 'smile' ===============\n",
      "Total duration: 0.006395999999999624 seconds\n",
      "Total memory used: 42.1787109375 KB\n",
      "Number of generated nodes: 13 nodes\n",
      "Number of completely expanded nodes: 6 nodes\n",
      "Path used to get to solution: [[1, 1, 0, 1, 1], [1, 1, 0, 1, 1], [0, 0, 0, 0, 0], [1, 0, 0, 0, 1], [0, 1, 1, 1, 0]]\n"
     ]
    },
    {
     "data": {
      "image/png": "[encoded data removed]",
      "text/plain": [
       "<Figure size 432x288 with 1 Axes>"
      ]
     },
     "metadata": {
      "needs_background": "light"
     },
     "output_type": "display_data"
    },
    {
     "name": "stdout",
     "output_type": "stream",
     "text": [
      "Running algorithm with second cost function...\n",
      "=============== Test Analysis using A* with second cost function on test 'smile' ===============\n",
      "Total duration: 0.012605999999999895 seconds\n",
      "Total memory used: 41.15625 KB\n",
      "Number of generated nodes: 28 nodes\n",
      "Number of completely expanded nodes: 13 nodes\n",
      "Path used to get to solution: [[1, 1, 0, 1, 1], [1, 1, 0, 1, 1], [0, 0, 0, 0, 0], [0, 1, 0, 0, 1]]\n"
     ]
    },
    {
     "data": {
      "image/png": "[encoded data removed]",
      "text/plain": [
       "<Figure size 432x288 with 1 Axes>"
      ]
     },
     "metadata": {
      "needs_background": "light"
     },
     "output_type": "display_data"
    },
    {
     "name": "stdout",
     "output_type": "stream",
     "text": [
      "Generating state space for test 'tower' ...\n",
      "Done generating state space!\n",
      "Running algorithm with first cost function...\n",
      "=============== Test Analysis using A* with first cost function on test 'tower' ===============\n",
      "Total duration: 0.015903999999999918 seconds\n",
      "Total memory used: 47.1943359375 KB\n",
      "Number of generated nodes: 15 nodes\n",
      "Number of completely expanded nodes: 6 nodes\n",
      "Path used to get to solution: [[1, 0, 1, 0, 1], [1, 1, 1, 1, 1], [0, 1, 1, 1, 0], [0, 1, 0, 1, 0], [0, 1, 1, 1, 0]]\n"
     ]
    },
    {
     "data": {
      "image/png": "[encoded data removed]",
      "text/plain": [
       "<Figure size 432x288 with 1 Axes>"
      ]
     },
     "metadata": {
      "needs_background": "light"
     },
     "output_type": "display_data"
    },
    {
     "name": "stdout",
     "output_type": "stream",
     "text": [
      "Running algorithm with second cost function...\n",
      "=============== Test Analysis using A* with second cost function on test 'tower' ===============\n",
      "Total duration: 0.01669799999999988 seconds\n",
      "Total memory used: 46.4140625 KB\n",
      "Number of generated nodes: 42 nodes\n",
      "Number of completely expanded nodes: 15 nodes\n",
      "Path used to get to solution: [[1, 0, 1, 0, 1], [1, 1, 1, 1, 1], [0, 1, 1, 1, 0]]\n"
     ]
    },
    {
     "data": {
      "image/png": "[encoded data removed]",
      "text/plain": [
       "<Figure size 432x288 with 1 Axes>"
      ]
     },
     "metadata": {
      "needs_background": "light"
     },
     "output_type": "display_data"
    },
    {
     "name": "stdout",
     "output_type": "stream",
     "text": [
      "Generating state space for test 'music' ...\n",
      "Done generating state space!\n",
      "Running algorithm with first cost function...\n",
      "=============== Test Analysis using A* with first cost function on test 'music' ===============\n",
      "Total duration: 0.2778659999999995 seconds\n",
      "Total memory used: 787.2958984375 KB\n",
      "Number of generated nodes: 150 nodes\n",
      "Number of completely expanded nodes: 11 nodes\n",
      "Path used to get to solution: [[0, 0, 0, 0, 0, 0, 1, 1, 1, 1], [0, 0, 0, 1, 1, 1, 0, 0, 0, 1], [0, 0, 0, 1, 0, 0, 0, 1, 1, 1], [0, 0, 0, 1, 1, 1, 1, 0, 0, 1], [0, 0, 0, 1, 0, 0, 0, 0, 0, 1], [0, 0, 0, 1, 0, 0, 0, 1, 1, 1], [0, 1, 1, 1, 0, 0, 1, 1, 1, 1], [1, 1, 1, 1, 0, 0, 1, 1, 1, 1], [1, 1, 1, 1, 0, 0, 0, 1, 1, 0], [0, 1, 1, 0, 0, 0, 0, 0, 0, 0]]\n"
     ]
    },
    {
     "data": {
      "image/png": "[encoded data removed]",
      "text/plain": [
       "<Figure size 432x288 with 1 Axes>"
      ]
     },
     "metadata": {
      "needs_background": "light"
     },
     "output_type": "display_data"
    },
    {
     "name": "stdout",
     "output_type": "stream",
     "text": [
      "Running algorithm with second cost function...\n",
      "=============== Test Analysis using A* with second cost function on test 'music' ===============\n",
      "Total duration: 0.2555639999999997 seconds\n",
      "Total memory used: 787.2333984375 KB\n",
      "Number of generated nodes: 2471 nodes\n",
      "Number of completely expanded nodes: 150 nodes\n",
      "Path used to get to solution: [[0, 0, 1, 1, 1, 1, 0, 0, 0, 0]]\n"
     ]
    },
    {
     "data": {
      "image/png": "[encoded data removed]",
      "text/plain": [
       "<Figure size 432x288 with 1 Axes>"
      ]
     },
     "metadata": {
      "needs_background": "light"
     },
     "output_type": "display_data"
    },
    {
     "name": "stdout",
     "output_type": "stream",
     "text": [
      "Generating state space for test 'mouse' ...\n",
      "Done generating state space!\n",
      "Running algorithm with first cost function...\n",
      "=============== Test Analysis using A* with first cost function on test 'mouse' ===============\n",
      "Total duration: 9.347203999999998 seconds\n",
      "Total memory used: 14222.62890625 KB\n",
      "Number of generated nodes: 2015 nodes\n",
      "Number of completely expanded nodes: 16 nodes\n",
      "Path used to get to solution: [[0, 0, 0, 0, 0, 0, 0, 0, 0, 0, 0, 0, 1, 1, 1], [0, 0, 0, 0, 0, 1, 1, 1, 1, 0, 0, 1, 1, 0, 1], [0, 0, 0, 1, 1, 1, 0, 0, 1, 0, 0, 1, 0, 1, 0], [1, 1, 1, 0, 1, 0, 0, 1, 1, 0, 0, 1, 0, 0, 0], [1, 1, 0, 0, 0, 0, 0, 1, 0, 0, 0, 1, 1, 0, 0], [0, 1, 1, 1, 1, 0, 0, 1, 1, 0, 0, 0, 1, 1, 0], [0, 0, 0, 0, 1, 1, 0, 0, 1, 1, 0, 0, 0, 1, 1], [0, 0, 0, 0, 0, 1, 0, 0, 0, 1, 1, 1, 0, 0, 1], [0, 0, 0, 0, 0, 1, 1, 0, 0, 0, 0, 1, 1, 0, 1], [0, 0, 0, 1, 1, 1, 1, 0, 0, 0, 0, 0, 1, 1, 1], [0, 0, 0, 1, 0, 1, 0, 0, 1, 1, 0, 0, 0, 1, 1], [0, 0, 0, 0, 0, 1, 0, 0, 1, 0, 0, 0, 0, 1, 0], [0, 0, 0, 0, 0, 0, 1, 0, 1, 0, 0, 0, 0, 1, 0], [0, 0, 0, 0, 0, 1, 1, 1, 1, 1, 0, 0, 1, 1, 0], [0, 0, 0, 1, 1, 1, 0, 1, 1, 0, 1, 1, 1, 0, 0]]\n"
     ]
    },
    {
     "data": {
      "image/png": "[encoded data removed]",
      "text/plain": [
       "<Figure size 432x288 with 1 Axes>"
      ]
     },
     "metadata": {
      "needs_background": "light"
     },
     "output_type": "display_data"
    },
    {
     "name": "stdout",
     "output_type": "stream",
     "text": [
      "Running algorithm with second cost function...\n",
      "=============== Test Analysis using A* with second cost function on test 'mouse' ===============\n",
      "Total duration: 9.446432000000001 seconds\n",
      "Total memory used: 14050.67578125 KB\n",
      "Number of generated nodes: 296649 nodes\n",
      "Number of completely expanded nodes: 2015 nodes\n",
      "Path used to get to solution: [[0, 0, 0, 0, 0, 0, 0, 0, 0, 1, 1, 1, 0, 0, 0]]\n"
     ]
    },
    {
     "data": {
      "image/png": "[encoded data removed]",
      "text/plain": [
       "<Figure size 432x288 with 1 Axes>"
      ]
     },
     "metadata": {
      "needs_background": "light"
     },
     "output_type": "display_data"
    },
    {
     "name": "stdout",
     "output_type": "stream",
     "text": [
      "Generating state space for test 'doggie' ...\n",
      "Done generating state space!\n",
      "Running algorithm with first cost function...\n",
      "=============== Test Analysis using A* with first cost function on test 'doggie' ===============\n",
      "Total duration: 10.725296000000014 seconds\n",
      "Total memory used: 21270.37109375 KB\n",
      "Number of generated nodes: 469463 nodes\n",
      "Number of completely expanded nodes: 2455 nodes\n",
      "Path used to get to solution: [[1, 1, 0, 0, 0, 1, 1, 1, 1, 1, 1, 0, 0, 0, 0, 0, 0, 0, 0, 0]]\n"
     ]
    },
    {
     "data": {
      "image/png": "[encoded data removed]",
      "text/plain": [
       "<Figure size 432x288 with 1 Axes>"
      ]
     },
     "metadata": {
      "needs_background": "light"
     },
     "output_type": "display_data"
    },
    {
     "name": "stdout",
     "output_type": "stream",
     "text": [
      "Running algorithm with second cost function...\n",
      "=============== Test Analysis using A* with second cost function on test 'doggie' ===============\n",
      "Total duration: 10.49454 seconds\n",
      "Total memory used: 21230.90625 KB\n",
      "Number of generated nodes: 469463 nodes\n",
      "Number of completely expanded nodes: 2455 nodes\n",
      "Path used to get to solution: [[0, 0, 0, 0, 0, 0, 0, 0, 1, 1, 0, 0, 0, 1, 1, 1, 1, 1, 1, 0]]\n"
     ]
    },
    {
     "data": {
      "image/png": "[encoded data removed]",
      "text/plain": [
       "<Figure size 432x288 with 1 Axes>"
      ]
     },
     "metadata": {
      "needs_background": "light"
     },
     "output_type": "display_data"
    },
    {
     "name": "stdout",
     "output_type": "stream",
     "text": [
      "Generating state space for test 'train' ...\n",
      "Done generating state space!\n",
      "Running algorithm with first cost function...\n",
      "=============== Test Analysis using A* with first cost function on test 'train' ===============\n",
      "Total duration: 292.6673200000005 seconds\n",
      "Total memory used: 336624.0390625 KB\n",
      "Number of generated nodes: 25684 nodes\n",
      "Number of completely expanded nodes: 26 nodes\n",
      "Path used to get to solution: [[0, 0, 0, 0, 0, 0, 0, 0, 0, 0, 1, 1, 1, 1, 1, 1, 0, 0, 0, 0, 0, 0, 0, 0, 0], [0, 0, 0, 0, 0, 0, 0, 0, 0, 1, 1, 1, 1, 1, 1, 0, 0, 0, 0, 0, 0, 0, 0, 0, 0], [0, 0, 0, 0, 0, 0, 0, 0, 1, 1, 1, 1, 0, 0, 0, 0, 0, 0, 0, 0, 0, 0, 0, 0, 0], [0, 0, 0, 0, 0, 0, 0, 0, 1, 0, 0, 0, 0, 0, 0, 0, 0, 0, 0, 0, 0, 0, 0, 0, 0], [0, 0, 0, 0, 0, 0, 0, 0, 0, 0, 0, 0, 0, 0, 1, 1, 1, 1, 1, 1, 1, 1, 1, 1, 0], [0, 0, 0, 0, 0, 0, 1, 1, 1, 1, 0, 0, 0, 0, 1, 1, 1, 1, 1, 1, 1, 1, 1, 1, 0], [0, 0, 0, 0, 0, 0, 1, 1, 1, 1, 0, 0, 0, 0, 0, 1, 0, 0, 0, 1, 0, 0, 1, 0, 0], [0, 0, 0, 0, 0, 0, 1, 1, 1, 1, 0, 0, 0, 0, 0, 1, 0, 0, 0, 1, 0, 0, 1, 0, 0], [0, 0, 0, 0, 0, 0, 0, 1, 1, 0, 0, 0, 0, 0, 0, 1, 0, 0, 0, 1, 0, 0, 1, 0, 0], [0, 0, 0, 0, 0, 0, 0, 1, 1, 0, 0, 0, 0, 0, 0, 1, 0, 0, 0, 1, 0, 0, 1, 0, 0], [0, 0, 0, 0, 1, 1, 1, 1, 1, 1, 1, 1, 1, 1, 1, 1, 0, 0, 0, 1, 1, 1, 1, 0, 0], [0, 0, 0, 1, 0, 1, 1, 1, 1, 1, 1, 1, 1, 1, 0, 1, 0, 0, 0, 1, 1, 1, 1, 0, 0], [0, 0, 1, 1, 0, 1, 1, 1, 1, 1, 1, 1, 1, 1, 0, 1, 1, 1, 1, 1, 1, 1, 1, 0, 0], [0, 0, 1, 1, 0, 1, 1, 1, 1, 1, 1, 1, 1, 1, 0, 1, 1, 1, 1, 1, 1, 1, 1, 0, 0], [0, 0, 1, 1, 0, 1, 0, 0, 0, 0, 0, 0, 0, 1, 0, 1, 1, 1, 1, 1, 1, 1, 1, 0, 0], [0, 0, 0, 1, 0, 1, 0, 0, 0, 0, 0, 0, 0, 1, 0, 1, 1, 1, 1, 1, 1, 1, 1, 0, 0], [0, 0, 0, 0, 1, 1, 1, 1, 1, 1, 1, 1, 1, 1, 1, 1, 1, 1, 1, 1, 1, 1, 1, 0, 0], [0, 0, 0, 0, 1, 0, 0, 0, 0, 0, 0, 0, 0, 0, 0, 0, 0, 1, 0, 0, 0, 1, 1, 0, 0], [0, 0, 0, 1, 1, 1, 1, 1, 1, 1, 1, 1, 1, 1, 1, 1, 1, 0, 1, 1, 1, 0, 1, 1, 1], [0, 0, 1, 1, 1, 0, 0, 0, 1, 1, 1, 0, 0, 0, 1, 1, 0, 1, 1, 1, 1, 1, 0, 1, 1], [0, 1, 1, 1, 0, 1, 1, 1, 0, 1, 0, 1, 1, 1, 0, 1, 1, 1, 1, 1, 1, 1, 1, 0, 0], [1, 1, 1, 0, 1, 1, 1, 1, 1, 0, 1, 1, 1, 1, 1, 0, 1, 1, 1, 1, 1, 1, 1, 0, 0], [1, 1, 1, 0, 1, 1, 0, 1, 1, 0, 1, 1, 0, 1, 1, 0, 1, 1, 1, 0, 1, 1, 1, 0, 0], [0, 0, 0, 0, 1, 1, 1, 1, 1, 0, 1, 1, 1, 1, 1, 0, 0, 1, 1, 1, 1, 1, 0, 0, 0], [0, 0, 0, 0, 0, 1, 1, 1, 0, 0, 0, 1, 1, 1, 0, 0, 0, 0, 1, 1, 1, 0, 0, 0, 0]]\n"
     ]
    },
    {
     "data": {
      "image/png": "[encoded data removed]",
      "text/plain": [
       "<Figure size 432x288 with 1 Axes>"
      ]
     },
     "metadata": {
      "needs_background": "light"
     },
     "output_type": "display_data"
    },
    {
     "name": "stdout",
     "output_type": "stream",
     "text": [
      "Running algorithm with second cost function...\n",
      "=============== Test Analysis using A* with second cost function on test 'train' ===============\n",
      "Total duration: 516.5348439999998 seconds\n",
      "Total memory used: 337104.94921875 KB\n",
      "Number of generated nodes: 76204261 nodes\n",
      "Number of completely expanded nodes: 25684 nodes\n",
      "Path used to get to solution: [[0, 0, 1, 1, 1, 1, 1, 1, 0, 0, 0, 0, 0, 0, 0, 0, 0, 0, 0, 0, 0, 0, 0, 0, 0]]\n"
     ]
    },
    {
     "data": {
      "image/png": "[encoded data removed]",
      "text/plain": [
       "<Figure size 432x288 with 1 Axes>"
      ]
     },
     "metadata": {
      "needs_background": "light"
     },
     "output_type": "display_data"
    }
   ],
   "source": [
    "def run_astar(init_state, end_state, testname):\n",
    "    print(f'Generating state space for test \\'{end_state[NAME]}\\' ...')\n",
    "    global all_rows\n",
    "    all_rows = gen_all_rows(init_state[ROWS], init_state[WIDTH])\n",
    "    print(f'Done generating state space!')\n",
    "    \n",
    "    print('Running algorithm with first cost function...')\n",
    "    state = deepcopy(init_state)\n",
    "    sol_state = deepcopy(end_state)\n",
    "    start_time = process_time()\n",
    "    path, sol = astar(state, sol_state, function_cost1)\n",
    "    end_time = process_time()\n",
    "    time_duration = end_time - start_time\n",
    "\n",
    "    state = deepcopy(init_state)\n",
    "    sol_state = deepcopy(end_state)\n",
    "    tracemalloc.start()\n",
    "    path, sol = astar(state, end_state, function_cost1)\n",
    "    total_memory = tracemalloc.get_traced_memory()[1]\n",
    "    tracemalloc.stop()\n",
    "\n",
    "    global no_generated_nodes\n",
    "    no_gen_nodes = no_generated_nodes\n",
    "    global no_expanded_nodes\n",
    "    no_exp_nodes = no_expanded_nodes\n",
    "\n",
    "    if sol:\n",
    "        print_results(\"A* with first cost function\", sol, end_state[NAME], time_duration, total_memory, no_gen_nodes, no_exp_nodes, path)\n",
    "    else:\n",
    "        print('No solution found for given state using given algorithm')\n",
    "        \n",
    "    print('Running algorithm with second cost function...')\n",
    "    state = deepcopy(init_state)\n",
    "    sol_state = deepcopy(end_state)\n",
    "    start_time = process_time()\n",
    "    path, sol = astar(state, sol_state, function_cost2)\n",
    "    end_time = process_time()\n",
    "    time_duration = end_time - start_time\n",
    "\n",
    "    state = deepcopy(init_state)\n",
    "    sol_state = deepcopy(end_state)\n",
    "    tracemalloc.start()\n",
    "    path, sol = astar(state, end_state, function_cost2)\n",
    "    total_memory = tracemalloc.get_traced_memory()[1]\n",
    "    tracemalloc.stop()\n",
    "\n",
    "    no_gen_nodes = no_generated_nodes\n",
    "    no_exp_nodes = no_expanded_nodes\n",
    "\n",
    "    if sol:\n",
    "        print_results(\"A* with second cost function\", sol, end_state[NAME], time_duration, total_memory, no_gen_nodes, no_exp_nodes, path)\n",
    "    else:\n",
    "        print('No solution found for given state using given algorithm')\n",
    "\n",
    "def run_suite_astar():\n",
    "    for test in tests:\n",
    "        init_state = read_test(test)\n",
    "        end_state = read_solution('sol' + str(test))\n",
    "        run_astar(init_state, end_state, test)\n",
    "\n",
    "run_suite_astar()"
   ]
  },
  {
   "cell_type": "code",
   "execution_count": 11,
   "id": "91afec4d",
   "metadata": {},
   "outputs": [],
   "source": [
    "def select():\n",
    "    pass\n",
    "\n",
    "def ac_3():\n",
    "    pass\n",
    "\n",
    "def bkt_mac(U, L, R, D):\n",
    "    if not U:\n",
    "        return True, L\n",
    "    X = select(U)\n",
    "    for x in domain(X):\n",
    "        L_prime = deepcopy(L)\n",
    "        L_prime.append((X, x))\n",
    "        b, D_prime = ac_3(L_prime, R, D)\n",
    "        if b:\n",
    "            b, L = bkt_mac(U_prime, L_prime, R, D_prime)\n",
    "            if b:\n",
    "                return b, L\n",
    "    return false\n",
    "\n",
    "def mac(V, R, D):\n",
    "    b, L = bkt_mac(V, [], R, D)\n",
    "    if b:\n",
    "        return L\n",
    "    return None\n",
    "\n",
    "def run_mac(testname):\n",
    "    pass"
   ]
  },
  {
   "cell_type": "code",
   "execution_count": 12,
   "id": "3e904fcd",
   "metadata": {},
   "outputs": [],
   "source": [
    "def lrt_astar():\n",
    "    pass"
   ]
  }
 ],
 "metadata": {
  "interpreter": {
   "hash": "aee8b7b246df8f9039afb4144a1f6fd8d2ca17a180786b69acc140d282b71a49"
  },
  "kernelspec": {
   "display_name": "Python 3",
   "language": "python",
   "name": "python3"
  },
  "language_info": {
   "codemirror_mode": {
    "name": "ipython",
    "version": 3
   },
   "file_extension": ".py",
   "mimetype": "text/x-python",
   "name": "python",
   "nbconvert_exporter": "python",
   "pygments_lexer": "ipython3",
   "version": "3.7.1"
  }
 },
 "nbformat": 4,
 "nbformat_minor": 5
}
